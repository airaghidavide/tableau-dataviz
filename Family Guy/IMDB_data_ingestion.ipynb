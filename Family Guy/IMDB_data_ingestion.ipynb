{
  "nbformat": 4,
  "nbformat_minor": 0,
  "metadata": {
    "colab": {
      "name": "IMDB data ingestion.ipynb",
      "provenance": []
    },
    "kernelspec": {
      "name": "python3",
      "display_name": "Python 3"
    },
    "language_info": {
      "name": "python"
    }
  },
  "cells": [
    {
      "cell_type": "markdown",
      "metadata": {
        "id": "3Pw24XYjV150"
      },
      "source": [
        "# Data Ingestion"
      ]
    },
    {
      "cell_type": "code",
      "metadata": {
        "id": "FcJYJhF-zB0S"
      },
      "source": [
        "import pandas as pd\n",
        "import warnings\n",
        "from functools import reduce\n",
        "warnings.filterwarnings(\"ignore\")"
      ],
      "execution_count": null,
      "outputs": []
    },
    {
      "cell_type": "code",
      "metadata": {
        "id": "zu6b0UaDV6QZ"
      },
      "source": [
        "# getting automatic reloading and inline plotting for the entire notebook\n",
        "%reload_ext autoreload\n",
        "%autoreload 2\n",
        "%matplotlib inline\n",
        "%reload_ext google.colab.data_table"
      ],
      "execution_count": null,
      "outputs": []
    },
    {
      "cell_type": "markdown",
      "metadata": {
        "id": "d2HmuDcUVOps"
      },
      "source": [
        "Get IMDB ratings dataset"
      ]
    },
    {
      "cell_type": "code",
      "metadata": {
        "colab": {
          "base_uri": "https://localhost:8080/",
          "height": 234
        },
        "id": "khDiFwZbRo2S",
        "outputId": "9b2ba51b-3080-489f-f4b6-7123c50339e9"
      },
      "source": [
        "df_ratings = pd.read_csv('/content/drive/MyDrive/Dataset/IMDB ratings/imdb_ratings.tsv', sep='\\t',index_col=0)\n",
        "df_ratings.head()"
      ],
      "execution_count": null,
      "outputs": [
        {
          "output_type": "execute_result",
          "data": {
            "text/html": [
              "<div>\n",
              "<style scoped>\n",
              "    .dataframe tbody tr th:only-of-type {\n",
              "        vertical-align: middle;\n",
              "    }\n",
              "\n",
              "    .dataframe tbody tr th {\n",
              "        vertical-align: top;\n",
              "    }\n",
              "\n",
              "    .dataframe thead th {\n",
              "        text-align: right;\n",
              "    }\n",
              "</style>\n",
              "<table border=\"1\" class=\"dataframe\">\n",
              "  <thead>\n",
              "    <tr style=\"text-align: right;\">\n",
              "      <th></th>\n",
              "      <th>averageRating</th>\n",
              "      <th>numVotes</th>\n",
              "    </tr>\n",
              "    <tr>\n",
              "      <th>tconst</th>\n",
              "      <th></th>\n",
              "      <th></th>\n",
              "    </tr>\n",
              "  </thead>\n",
              "  <tbody>\n",
              "    <tr>\n",
              "      <th>tt0000001</th>\n",
              "      <td>5.7</td>\n",
              "      <td>1811</td>\n",
              "    </tr>\n",
              "    <tr>\n",
              "      <th>tt0000002</th>\n",
              "      <td>6.0</td>\n",
              "      <td>233</td>\n",
              "    </tr>\n",
              "    <tr>\n",
              "      <th>tt0000003</th>\n",
              "      <td>6.5</td>\n",
              "      <td>1563</td>\n",
              "    </tr>\n",
              "    <tr>\n",
              "      <th>tt0000004</th>\n",
              "      <td>6.0</td>\n",
              "      <td>152</td>\n",
              "    </tr>\n",
              "    <tr>\n",
              "      <th>tt0000005</th>\n",
              "      <td>6.2</td>\n",
              "      <td>2385</td>\n",
              "    </tr>\n",
              "  </tbody>\n",
              "</table>\n",
              "</div>"
            ],
            "text/plain": [
              "           averageRating  numVotes\n",
              "tconst                            \n",
              "tt0000001            5.7      1811\n",
              "tt0000002            6.0       233\n",
              "tt0000003            6.5      1563\n",
              "tt0000004            6.0       152\n",
              "tt0000005            6.2      2385"
            ]
          },
          "metadata": {},
          "execution_count": 3
        }
      ]
    },
    {
      "cell_type": "code",
      "metadata": {
        "colab": {
          "base_uri": "https://localhost:8080/"
        },
        "id": "YRagSRh2Xe-F",
        "outputId": "69585f1e-1b5a-4a2d-d099-ddf66064a550"
      },
      "source": [
        "df_ratings.info()"
      ],
      "execution_count": null,
      "outputs": [
        {
          "output_type": "stream",
          "name": "stdout",
          "text": [
            "<class 'pandas.core.frame.DataFrame'>\n",
            "Index: 1182379 entries, tt0000001 to tt9916778\n",
            "Data columns (total 2 columns):\n",
            " #   Column         Non-Null Count    Dtype  \n",
            "---  ------         --------------    -----  \n",
            " 0   averageRating  1182379 non-null  float64\n",
            " 1   numVotes       1182379 non-null  int64  \n",
            "dtypes: float64(1), int64(1)\n",
            "memory usage: 27.1+ MB\n"
          ]
        }
      ]
    },
    {
      "cell_type": "code",
      "metadata": {
        "id": "JMdQ5JO6zxDf"
      },
      "source": [
        "df_ratings.loc[df_ratings['column_name'] == some_value]"
      ],
      "execution_count": null,
      "outputs": []
    },
    {
      "cell_type": "markdown",
      "metadata": {
        "id": "5_TPcvdpVY18"
      },
      "source": [
        "Get IMDB seasons dataset"
      ]
    },
    {
      "cell_type": "code",
      "metadata": {
        "colab": {
          "base_uri": "https://localhost:8080/",
          "height": 234
        },
        "id": "-vRD_KEHVXTp",
        "outputId": "474558cc-bc1f-49ed-ac64-3eea57766448"
      },
      "source": [
        "df_seasons = pd.read_csv('/content/drive/MyDrive/Dataset/IMDB ratings/imdb_seasons.tsv', sep='\\t',index_col=0)\n",
        "df_seasons.head()"
      ],
      "execution_count": null,
      "outputs": [
        {
          "output_type": "execute_result",
          "data": {
            "text/html": [
              "<div>\n",
              "<style scoped>\n",
              "    .dataframe tbody tr th:only-of-type {\n",
              "        vertical-align: middle;\n",
              "    }\n",
              "\n",
              "    .dataframe tbody tr th {\n",
              "        vertical-align: top;\n",
              "    }\n",
              "\n",
              "    .dataframe thead th {\n",
              "        text-align: right;\n",
              "    }\n",
              "</style>\n",
              "<table border=\"1\" class=\"dataframe\">\n",
              "  <thead>\n",
              "    <tr style=\"text-align: right;\">\n",
              "      <th></th>\n",
              "      <th>parentTconst</th>\n",
              "      <th>seasonNumber</th>\n",
              "      <th>episodeNumber</th>\n",
              "    </tr>\n",
              "    <tr>\n",
              "      <th>tconst</th>\n",
              "      <th></th>\n",
              "      <th></th>\n",
              "      <th></th>\n",
              "    </tr>\n",
              "  </thead>\n",
              "  <tbody>\n",
              "    <tr>\n",
              "      <th>tt0020666</th>\n",
              "      <td>tt15180956</td>\n",
              "      <td>1</td>\n",
              "      <td>2</td>\n",
              "    </tr>\n",
              "    <tr>\n",
              "      <th>tt0021166</th>\n",
              "      <td>tt15180956</td>\n",
              "      <td>1</td>\n",
              "      <td>3</td>\n",
              "    </tr>\n",
              "    <tr>\n",
              "      <th>tt0021612</th>\n",
              "      <td>tt15180956</td>\n",
              "      <td>2</td>\n",
              "      <td>2</td>\n",
              "    </tr>\n",
              "    <tr>\n",
              "      <th>tt0021655</th>\n",
              "      <td>tt15180956</td>\n",
              "      <td>2</td>\n",
              "      <td>5</td>\n",
              "    </tr>\n",
              "    <tr>\n",
              "      <th>tt0021663</th>\n",
              "      <td>tt15180956</td>\n",
              "      <td>2</td>\n",
              "      <td>6</td>\n",
              "    </tr>\n",
              "  </tbody>\n",
              "</table>\n",
              "</div>"
            ],
            "text/plain": [
              "          parentTconst seasonNumber episodeNumber\n",
              "tconst                                           \n",
              "tt0020666   tt15180956            1             2\n",
              "tt0021166   tt15180956            1             3\n",
              "tt0021612   tt15180956            2             2\n",
              "tt0021655   tt15180956            2             5\n",
              "tt0021663   tt15180956            2             6"
            ]
          },
          "metadata": {},
          "execution_count": 4
        }
      ]
    },
    {
      "cell_type": "code",
      "metadata": {
        "colab": {
          "base_uri": "https://localhost:8080/"
        },
        "id": "SMlLG6I0Xi-x",
        "outputId": "7f6dcab4-f8b3-479e-b816-32a43f33e034"
      },
      "source": [
        "df_seasons.info()"
      ],
      "execution_count": null,
      "outputs": [
        {
          "output_type": "stream",
          "name": "stdout",
          "text": [
            "<class 'pandas.core.frame.DataFrame'>\n",
            "RangeIndex: 6029786 entries, 0 to 6029785\n",
            "Data columns (total 4 columns):\n",
            " #   Column         Dtype \n",
            "---  ------         ----- \n",
            " 0   tconst         object\n",
            " 1   parentTconst   object\n",
            " 2   seasonNumber   object\n",
            " 3   episodeNumber  object\n",
            "dtypes: object(4)\n",
            "memory usage: 184.0+ MB\n"
          ]
        }
      ]
    },
    {
      "cell_type": "code",
      "metadata": {
        "colab": {
          "base_uri": "https://localhost:8080/",
          "height": 234
        },
        "id": "GrGoyZ_D0BH_",
        "outputId": "2562c8a9-3137-46d4-acd2-59b161b5d4af"
      },
      "source": [
        "df_seasons_family_guy = df_seasons.loc[df_seasons['parentTconst'] == 'tt0182576']\n",
        "df_seasons_family_guy.head()"
      ],
      "execution_count": null,
      "outputs": [
        {
          "output_type": "execute_result",
          "data": {
            "text/html": [
              "<div>\n",
              "<style scoped>\n",
              "    .dataframe tbody tr th:only-of-type {\n",
              "        vertical-align: middle;\n",
              "    }\n",
              "\n",
              "    .dataframe tbody tr th {\n",
              "        vertical-align: top;\n",
              "    }\n",
              "\n",
              "    .dataframe thead th {\n",
              "        text-align: right;\n",
              "    }\n",
              "</style>\n",
              "<table border=\"1\" class=\"dataframe\">\n",
              "  <thead>\n",
              "    <tr style=\"text-align: right;\">\n",
              "      <th></th>\n",
              "      <th>parentTconst</th>\n",
              "      <th>seasonNumber</th>\n",
              "      <th>episodeNumber</th>\n",
              "    </tr>\n",
              "    <tr>\n",
              "      <th>tconst</th>\n",
              "      <th></th>\n",
              "      <th></th>\n",
              "      <th></th>\n",
              "    </tr>\n",
              "  </thead>\n",
              "  <tbody>\n",
              "    <tr>\n",
              "      <th>tt0576909</th>\n",
              "      <td>tt0182576</td>\n",
              "      <td>4</td>\n",
              "      <td>8</td>\n",
              "    </tr>\n",
              "    <tr>\n",
              "      <th>tt0576910</th>\n",
              "      <td>tt0182576</td>\n",
              "      <td>3</td>\n",
              "      <td>10</td>\n",
              "    </tr>\n",
              "    <tr>\n",
              "      <th>tt0576911</th>\n",
              "      <td>tt0182576</td>\n",
              "      <td>1</td>\n",
              "      <td>5</td>\n",
              "    </tr>\n",
              "    <tr>\n",
              "      <th>tt0576912</th>\n",
              "      <td>tt0182576</td>\n",
              "      <td>2</td>\n",
              "      <td>11</td>\n",
              "    </tr>\n",
              "    <tr>\n",
              "      <th>tt0576913</th>\n",
              "      <td>tt0182576</td>\n",
              "      <td>3</td>\n",
              "      <td>16</td>\n",
              "    </tr>\n",
              "  </tbody>\n",
              "</table>\n",
              "</div>"
            ],
            "text/plain": [
              "          parentTconst seasonNumber episodeNumber\n",
              "tconst                                           \n",
              "tt0576909    tt0182576            4             8\n",
              "tt0576910    tt0182576            3            10\n",
              "tt0576911    tt0182576            1             5\n",
              "tt0576912    tt0182576            2            11\n",
              "tt0576913    tt0182576            3            16"
            ]
          },
          "metadata": {},
          "execution_count": 6
        }
      ]
    },
    {
      "cell_type": "markdown",
      "metadata": {
        "id": "VT3_NduPe-z0"
      },
      "source": [
        "Get IMDB titles dataset"
      ]
    },
    {
      "cell_type": "code",
      "metadata": {
        "colab": {
          "base_uri": "https://localhost:8080/",
          "height": 234
        },
        "id": "Tv_i1DDrbCHH",
        "outputId": "042912f9-f721-484a-cd4f-baf5eba0dd19"
      },
      "source": [
        "df_titles_basic = pd.read_csv('/content/drive/MyDrive/Dataset/IMDB ratings/title_basics.tsv', sep='\\t',index_col=0)\n",
        "df_titles_basic.head()"
      ],
      "execution_count": null,
      "outputs": [
        {
          "output_type": "execute_result",
          "data": {
            "text/html": [
              "<div>\n",
              "<style scoped>\n",
              "    .dataframe tbody tr th:only-of-type {\n",
              "        vertical-align: middle;\n",
              "    }\n",
              "\n",
              "    .dataframe tbody tr th {\n",
              "        vertical-align: top;\n",
              "    }\n",
              "\n",
              "    .dataframe thead th {\n",
              "        text-align: right;\n",
              "    }\n",
              "</style>\n",
              "<table border=\"1\" class=\"dataframe\">\n",
              "  <thead>\n",
              "    <tr style=\"text-align: right;\">\n",
              "      <th></th>\n",
              "      <th>titleType</th>\n",
              "      <th>primaryTitle</th>\n",
              "      <th>originalTitle</th>\n",
              "      <th>isAdult</th>\n",
              "      <th>startYear</th>\n",
              "      <th>endYear</th>\n",
              "      <th>runtimeMinutes</th>\n",
              "      <th>genres</th>\n",
              "    </tr>\n",
              "    <tr>\n",
              "      <th>tconst</th>\n",
              "      <th></th>\n",
              "      <th></th>\n",
              "      <th></th>\n",
              "      <th></th>\n",
              "      <th></th>\n",
              "      <th></th>\n",
              "      <th></th>\n",
              "      <th></th>\n",
              "    </tr>\n",
              "  </thead>\n",
              "  <tbody>\n",
              "    <tr>\n",
              "      <th>tt0000001</th>\n",
              "      <td>short</td>\n",
              "      <td>Carmencita</td>\n",
              "      <td>Carmencita</td>\n",
              "      <td>0</td>\n",
              "      <td>1894</td>\n",
              "      <td>\\N</td>\n",
              "      <td>1</td>\n",
              "      <td>Documentary,Short</td>\n",
              "    </tr>\n",
              "    <tr>\n",
              "      <th>tt0000002</th>\n",
              "      <td>short</td>\n",
              "      <td>Le clown et ses chiens</td>\n",
              "      <td>Le clown et ses chiens</td>\n",
              "      <td>0</td>\n",
              "      <td>1892</td>\n",
              "      <td>\\N</td>\n",
              "      <td>5</td>\n",
              "      <td>Animation,Short</td>\n",
              "    </tr>\n",
              "    <tr>\n",
              "      <th>tt0000003</th>\n",
              "      <td>short</td>\n",
              "      <td>Pauvre Pierrot</td>\n",
              "      <td>Pauvre Pierrot</td>\n",
              "      <td>0</td>\n",
              "      <td>1892</td>\n",
              "      <td>\\N</td>\n",
              "      <td>4</td>\n",
              "      <td>Animation,Comedy,Romance</td>\n",
              "    </tr>\n",
              "    <tr>\n",
              "      <th>tt0000004</th>\n",
              "      <td>short</td>\n",
              "      <td>Un bon bock</td>\n",
              "      <td>Un bon bock</td>\n",
              "      <td>0</td>\n",
              "      <td>1892</td>\n",
              "      <td>\\N</td>\n",
              "      <td>12</td>\n",
              "      <td>Animation,Short</td>\n",
              "    </tr>\n",
              "    <tr>\n",
              "      <th>tt0000005</th>\n",
              "      <td>short</td>\n",
              "      <td>Blacksmith Scene</td>\n",
              "      <td>Blacksmith Scene</td>\n",
              "      <td>0</td>\n",
              "      <td>1893</td>\n",
              "      <td>\\N</td>\n",
              "      <td>1</td>\n",
              "      <td>Comedy,Short</td>\n",
              "    </tr>\n",
              "  </tbody>\n",
              "</table>\n",
              "</div>"
            ],
            "text/plain": [
              "          titleType  ...                    genres\n",
              "tconst               ...                          \n",
              "tt0000001     short  ...         Documentary,Short\n",
              "tt0000002     short  ...           Animation,Short\n",
              "tt0000003     short  ...  Animation,Comedy,Romance\n",
              "tt0000004     short  ...           Animation,Short\n",
              "tt0000005     short  ...              Comedy,Short\n",
              "\n",
              "[5 rows x 8 columns]"
            ]
          },
          "metadata": {},
          "execution_count": 8
        }
      ]
    },
    {
      "cell_type": "code",
      "metadata": {
        "colab": {
          "base_uri": "https://localhost:8080/"
        },
        "id": "PjGlb-Rjg9bf",
        "outputId": "8345f436-c2ab-4a77-c8b3-53b4162bbb92"
      },
      "source": [
        "df_titles_basic.info()"
      ],
      "execution_count": null,
      "outputs": [
        {
          "output_type": "stream",
          "name": "stdout",
          "text": [
            "<class 'pandas.core.frame.DataFrame'>\n",
            "Index: 8224437 entries, tt0000001 to tt9916880\n",
            "Data columns (total 8 columns):\n",
            " #   Column          Dtype \n",
            "---  ------          ----- \n",
            " 0   titleType       object\n",
            " 1   primaryTitle    object\n",
            " 2   originalTitle   object\n",
            " 3   isAdult         object\n",
            " 4   startYear       object\n",
            " 5   endYear         object\n",
            " 6   runtimeMinutes  object\n",
            " 7   genres          object\n",
            "dtypes: object(8)\n",
            "memory usage: 884.7+ MB\n"
          ]
        }
      ]
    },
    {
      "cell_type": "markdown",
      "metadata": {
        "id": "aa_vidhZT_kA"
      },
      "source": [
        "ID for Family Guy:\ttt0182576\t"
      ]
    },
    {
      "cell_type": "code",
      "metadata": {
        "id": "MCHX5qntXMDY"
      },
      "source": [
        "data_frames = [df_seasons_family_guy, df_ratings, df_titles_basic]"
      ],
      "execution_count": null,
      "outputs": []
    },
    {
      "cell_type": "code",
      "metadata": {
        "id": "0hrfqjav1tt4"
      },
      "source": [
        "df_family_guy = reduce(lambda  left,right: pd.merge(left,right,on=['tconst'],how='inner'), data_frames)"
      ],
      "execution_count": null,
      "outputs": []
    },
    {
      "cell_type": "code",
      "metadata": {
        "colab": {
          "base_uri": "https://localhost:8080/",
          "height": 234
        },
        "id": "LY9XYIE21867",
        "outputId": "698e82b9-b20b-4828-c16f-4f391a34baeb"
      },
      "source": [
        "df_family_guy.head()"
      ],
      "execution_count": null,
      "outputs": [
        {
          "output_type": "execute_result",
          "data": {
            "text/html": [
              "<div>\n",
              "<style scoped>\n",
              "    .dataframe tbody tr th:only-of-type {\n",
              "        vertical-align: middle;\n",
              "    }\n",
              "\n",
              "    .dataframe tbody tr th {\n",
              "        vertical-align: top;\n",
              "    }\n",
              "\n",
              "    .dataframe thead th {\n",
              "        text-align: right;\n",
              "    }\n",
              "</style>\n",
              "<table border=\"1\" class=\"dataframe\">\n",
              "  <thead>\n",
              "    <tr style=\"text-align: right;\">\n",
              "      <th></th>\n",
              "      <th>parentTconst</th>\n",
              "      <th>seasonNumber</th>\n",
              "      <th>episodeNumber</th>\n",
              "      <th>averageRating</th>\n",
              "      <th>numVotes</th>\n",
              "      <th>titleType</th>\n",
              "      <th>primaryTitle</th>\n",
              "      <th>originalTitle</th>\n",
              "      <th>isAdult</th>\n",
              "      <th>startYear</th>\n",
              "      <th>endYear</th>\n",
              "      <th>runtimeMinutes</th>\n",
              "      <th>genres</th>\n",
              "    </tr>\n",
              "    <tr>\n",
              "      <th>tconst</th>\n",
              "      <th></th>\n",
              "      <th></th>\n",
              "      <th></th>\n",
              "      <th></th>\n",
              "      <th></th>\n",
              "      <th></th>\n",
              "      <th></th>\n",
              "      <th></th>\n",
              "      <th></th>\n",
              "      <th></th>\n",
              "      <th></th>\n",
              "      <th></th>\n",
              "      <th></th>\n",
              "    </tr>\n",
              "  </thead>\n",
              "  <tbody>\n",
              "    <tr>\n",
              "      <th>tt0576909</th>\n",
              "      <td>tt0182576</td>\n",
              "      <td>4</td>\n",
              "      <td>8</td>\n",
              "      <td>7.6</td>\n",
              "      <td>1435</td>\n",
              "      <td>tvEpisode</td>\n",
              "      <td>8 Simple Rules for Buying My Teenage Daughter</td>\n",
              "      <td>8 Simple Rules for Buying My Teenage Daughter</td>\n",
              "      <td>0</td>\n",
              "      <td>2005</td>\n",
              "      <td>\\N</td>\n",
              "      <td>22</td>\n",
              "      <td>Animation,Comedy</td>\n",
              "    </tr>\n",
              "    <tr>\n",
              "      <th>tt0576910</th>\n",
              "      <td>tt0182576</td>\n",
              "      <td>3</td>\n",
              "      <td>10</td>\n",
              "      <td>7.1</td>\n",
              "      <td>1608</td>\n",
              "      <td>tvEpisode</td>\n",
              "      <td>A Fish Out of Water</td>\n",
              "      <td>A Fish Out of Water</td>\n",
              "      <td>0</td>\n",
              "      <td>2001</td>\n",
              "      <td>\\N</td>\n",
              "      <td>23</td>\n",
              "      <td>Animation,Comedy</td>\n",
              "    </tr>\n",
              "    <tr>\n",
              "      <th>tt0576911</th>\n",
              "      <td>tt0182576</td>\n",
              "      <td>1</td>\n",
              "      <td>5</td>\n",
              "      <td>7.5</td>\n",
              "      <td>2043</td>\n",
              "      <td>tvEpisode</td>\n",
              "      <td>A Hero Sits Next Door</td>\n",
              "      <td>A Hero Sits Next Door</td>\n",
              "      <td>0</td>\n",
              "      <td>1999</td>\n",
              "      <td>\\N</td>\n",
              "      <td>30</td>\n",
              "      <td>Animation,Comedy</td>\n",
              "    </tr>\n",
              "    <tr>\n",
              "      <th>tt0576912</th>\n",
              "      <td>tt0182576</td>\n",
              "      <td>2</td>\n",
              "      <td>11</td>\n",
              "      <td>7.2</td>\n",
              "      <td>1655</td>\n",
              "      <td>tvEpisode</td>\n",
              "      <td>A Picture Is Worth 1,000 Bucks</td>\n",
              "      <td>A Picture Is Worth 1,000 Bucks</td>\n",
              "      <td>0</td>\n",
              "      <td>2000</td>\n",
              "      <td>\\N</td>\n",
              "      <td>30</td>\n",
              "      <td>Animation,Comedy</td>\n",
              "    </tr>\n",
              "    <tr>\n",
              "      <th>tt0576913</th>\n",
              "      <td>tt0182576</td>\n",
              "      <td>3</td>\n",
              "      <td>16</td>\n",
              "      <td>7.7</td>\n",
              "      <td>1559</td>\n",
              "      <td>tvEpisode</td>\n",
              "      <td>A Very Special Family Guy Freakin' Christmas</td>\n",
              "      <td>A Very Special Family Guy Freakin' Christmas</td>\n",
              "      <td>0</td>\n",
              "      <td>2001</td>\n",
              "      <td>\\N</td>\n",
              "      <td>30</td>\n",
              "      <td>Animation,Comedy</td>\n",
              "    </tr>\n",
              "  </tbody>\n",
              "</table>\n",
              "</div>"
            ],
            "text/plain": [
              "          parentTconst seasonNumber  ... runtimeMinutes            genres\n",
              "tconst                               ...                                 \n",
              "tt0576909    tt0182576            4  ...             22  Animation,Comedy\n",
              "tt0576910    tt0182576            3  ...             23  Animation,Comedy\n",
              "tt0576911    tt0182576            1  ...             30  Animation,Comedy\n",
              "tt0576912    tt0182576            2  ...             30  Animation,Comedy\n",
              "tt0576913    tt0182576            3  ...             30  Animation,Comedy\n",
              "\n",
              "[5 rows x 13 columns]"
            ]
          },
          "metadata": {},
          "execution_count": 15
        }
      ]
    },
    {
      "cell_type": "code",
      "metadata": {
        "colab": {
          "base_uri": "https://localhost:8080/"
        },
        "id": "7YiUTNte22hB",
        "outputId": "7d249de5-27ef-4036-edff-0449bfe9133b"
      },
      "source": [
        "df_family_guy.info()"
      ],
      "execution_count": null,
      "outputs": [
        {
          "output_type": "stream",
          "name": "stdout",
          "text": [
            "<class 'pandas.core.frame.DataFrame'>\n",
            "Index: 369 entries, tt0576909 to tt9771020\n",
            "Data columns (total 7 columns):\n",
            " #   Column          Non-Null Count  Dtype  \n",
            "---  ------          --------------  -----  \n",
            " 0   seasonNumber    369 non-null    object \n",
            " 1   episodeNumber   369 non-null    object \n",
            " 2   averageRating   369 non-null    float64\n",
            " 3   numVotes        369 non-null    int64  \n",
            " 4   originalTitle   369 non-null    object \n",
            " 5   startYear       369 non-null    object \n",
            " 6   runtimeMinutes  369 non-null    object \n",
            "dtypes: float64(1), int64(1), object(5)\n",
            "memory usage: 33.1+ KB\n"
          ]
        }
      ]
    },
    {
      "cell_type": "code",
      "metadata": {
        "id": "FAzN1aX82M-c"
      },
      "source": [
        "df_family_guy.drop(columns=['parentTconst','titleType','primaryTitle','isAdult','endYear','genres'],inplace=True)"
      ],
      "execution_count": null,
      "outputs": []
    },
    {
      "cell_type": "code",
      "metadata": {
        "id": "_nBITvzm3LND"
      },
      "source": [
        "df_family_guy.rename(columns={\"seasonNumber\": \"Season\", \"episodeNumber\": \"Episode\",\"averageRating\": \"Average Rating\",\"numVotes\": \"Votes\",\"originalTitle\": \"Title\",\"startYear\": \"Year\",\"runtimeMinutes\": \"Duration\"},inplace=True)"
      ],
      "execution_count": null,
      "outputs": []
    },
    {
      "cell_type": "code",
      "metadata": {
        "colab": {
          "base_uri": "https://localhost:8080/",
          "height": 234
        },
        "id": "GUQpTqkJ4dxJ",
        "outputId": "1bca813e-87c6-43f1-9534-4a1d5b7eb181"
      },
      "source": [
        "df_family_guy.head()"
      ],
      "execution_count": null,
      "outputs": [
        {
          "output_type": "execute_result",
          "data": {
            "text/html": [
              "<div>\n",
              "<style scoped>\n",
              "    .dataframe tbody tr th:only-of-type {\n",
              "        vertical-align: middle;\n",
              "    }\n",
              "\n",
              "    .dataframe tbody tr th {\n",
              "        vertical-align: top;\n",
              "    }\n",
              "\n",
              "    .dataframe thead th {\n",
              "        text-align: right;\n",
              "    }\n",
              "</style>\n",
              "<table border=\"1\" class=\"dataframe\">\n",
              "  <thead>\n",
              "    <tr style=\"text-align: right;\">\n",
              "      <th></th>\n",
              "      <th>Season</th>\n",
              "      <th>Episode</th>\n",
              "      <th>Average Rating</th>\n",
              "      <th>Votes</th>\n",
              "      <th>Title</th>\n",
              "      <th>Year</th>\n",
              "      <th>Duration</th>\n",
              "    </tr>\n",
              "    <tr>\n",
              "      <th>tconst</th>\n",
              "      <th></th>\n",
              "      <th></th>\n",
              "      <th></th>\n",
              "      <th></th>\n",
              "      <th></th>\n",
              "      <th></th>\n",
              "      <th></th>\n",
              "    </tr>\n",
              "  </thead>\n",
              "  <tbody>\n",
              "    <tr>\n",
              "      <th>tt0576909</th>\n",
              "      <td>4</td>\n",
              "      <td>8</td>\n",
              "      <td>7.6</td>\n",
              "      <td>1435</td>\n",
              "      <td>8 Simple Rules for Buying My Teenage Daughter</td>\n",
              "      <td>2005</td>\n",
              "      <td>22</td>\n",
              "    </tr>\n",
              "    <tr>\n",
              "      <th>tt0576910</th>\n",
              "      <td>3</td>\n",
              "      <td>10</td>\n",
              "      <td>7.1</td>\n",
              "      <td>1608</td>\n",
              "      <td>A Fish Out of Water</td>\n",
              "      <td>2001</td>\n",
              "      <td>23</td>\n",
              "    </tr>\n",
              "    <tr>\n",
              "      <th>tt0576911</th>\n",
              "      <td>1</td>\n",
              "      <td>5</td>\n",
              "      <td>7.5</td>\n",
              "      <td>2043</td>\n",
              "      <td>A Hero Sits Next Door</td>\n",
              "      <td>1999</td>\n",
              "      <td>30</td>\n",
              "    </tr>\n",
              "    <tr>\n",
              "      <th>tt0576912</th>\n",
              "      <td>2</td>\n",
              "      <td>11</td>\n",
              "      <td>7.2</td>\n",
              "      <td>1655</td>\n",
              "      <td>A Picture Is Worth 1,000 Bucks</td>\n",
              "      <td>2000</td>\n",
              "      <td>30</td>\n",
              "    </tr>\n",
              "    <tr>\n",
              "      <th>tt0576913</th>\n",
              "      <td>3</td>\n",
              "      <td>16</td>\n",
              "      <td>7.7</td>\n",
              "      <td>1559</td>\n",
              "      <td>A Very Special Family Guy Freakin' Christmas</td>\n",
              "      <td>2001</td>\n",
              "      <td>30</td>\n",
              "    </tr>\n",
              "  </tbody>\n",
              "</table>\n",
              "</div>"
            ],
            "text/plain": [
              "          Season Episode  ...  Year  Duration\n",
              "tconst                    ...                \n",
              "tt0576909      4       8  ...  2005        22\n",
              "tt0576910      3      10  ...  2001        23\n",
              "tt0576911      1       5  ...  1999        30\n",
              "tt0576912      2      11  ...  2000        30\n",
              "tt0576913      3      16  ...  2001        30\n",
              "\n",
              "[5 rows x 7 columns]"
            ]
          },
          "metadata": {},
          "execution_count": 22
        }
      ]
    },
    {
      "cell_type": "code",
      "metadata": {
        "id": "lAtskcnC4jD4"
      },
      "source": [
        "df_family_guy.to_excel('IMDB_Family_Guy.xlsx')"
      ],
      "execution_count": null,
      "outputs": []
    }
  ]
}